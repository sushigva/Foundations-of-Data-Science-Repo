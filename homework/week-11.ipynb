{
  "nbformat": 4,
  "nbformat_minor": 0,
  "metadata": {
    "colab": {
      "provenance": [],
      "include_colab_link": true
    },
    "kernelspec": {
      "name": "python3",
      "display_name": "Python 3"
    },
    "language_info": {
      "name": "python"
    }
  },
  "cells": [
    {
      "cell_type": "markdown",
      "metadata": {
        "id": "view-in-github",
        "colab_type": "text"
      },
      "source": [
        "<a href=\"https://colab.research.google.com/github/sushigva/Foundations-of-Data-Science-Repo/blob/main/homework/week-11.ipynb\" target=\"_parent\"><img src=\"https://colab.research.google.com/assets/colab-badge.svg\" alt=\"Open In Colab\"/></a>"
      ]
    },
    {
      "cell_type": "markdown",
      "source": [
        "# Homework - Error Handling & Recursion\n",
        "\n",
        "Complete the cells below. Pay close attention to all directions given.\n",
        "\n",
        "## Error Handling (3 pts)\n",
        "\n",
        "```\n",
        "def throw_me_an_error():\n",
        "  val1 = 14\n",
        "  val2 = 0\n",
        "  return val1 / val2\n",
        "\n",
        "throw_me_an_error()\n",
        "```\n",
        "\n",
        "The function above is designed to deliberately throw an error.\n",
        "\n",
        "Create a new version of the function but add `try` and `except` statements correctly. Your exception should print out the type of error this function created. There are a couple of different ways you could do this.\n"
      ],
      "metadata": {
        "id": "v14Xtd9oiTGF"
      }
    },
    {
      "cell_type": "code",
      "execution_count": 18,
      "metadata": {
        "id": "-dfq0Vo_iSi7",
        "outputId": "520a6d55-101f-49ab-e0bf-e2bd1057b2a1",
        "colab": {
          "base_uri": "https://localhost:8080/"
        }
      },
      "outputs": [
        {
          "output_type": "stream",
          "name": "stdout",
          "text": [
            "An error of type ZeroDivisionError occurred: division by zero\n"
          ]
        }
      ],
      "source": [
        "# answer goes here.\n",
        "def throw_me_an_error():\n",
        "    val1 = 14\n",
        "    val2 = 0\n",
        "    try:\n",
        "        result = val1 / val2\n",
        "        return result\n",
        "    except Exception as e:\n",
        "        print(f\"An error of type {type(e).__name__} occurred: {e}\")\n",
        "\n",
        "throw_me_an_error()"
      ]
    },
    {
      "cell_type": "markdown",
      "source": [
        "## Error Handling (4 pts)\n",
        "\n",
        "Extend the class below to include some error handling. Assume the remote resource is offline for a moment: How would you give a message to the user indicating what has gone wrong? (Hint: one way you can test this is by deliberately misspelling the URL for the remote resource.)\n",
        "\n",
        "Also, include error handling logic so that execution of the class method `guid()` always returns a line \"Your request has been completed\" along with the guid it created.\n",
        "\n",
        "```\n",
        "import requests\n",
        "import json\n",
        "import sys\n",
        "\n",
        "class Id:\n",
        "\n",
        "  def guid():\n",
        "    response = requests.get('https://ids.pods.uvarc.io/guid')\n",
        "    body = json.loads(response.text)\n",
        "    return body['id']\n",
        "\n",
        "Id.guid()\n",
        "```"
      ],
      "metadata": {
        "id": "gf9m78RWmWqC"
      }
    },
    {
      "cell_type": "code",
      "source": [
        "# answer goes here\n",
        "import requests\n",
        "import json\n",
        "\n",
        "class Id:\n",
        "\n",
        "\n",
        "\n",
        "\n",
        "    def guid():\n",
        "        try:\n",
        "            response = requests.get('https://ids.pods.uvarc.io/guid')\n",
        "            response.raise_for_status()  # This is for checking for any HTTP errors\n",
        "            body = json.loads(response.text)\n",
        "            return f\"Your request has been completd, the gud is {body['id']}\"\n",
        "        except requests.exceptions.RequestException as e:\n",
        "            return f\"An rror occurred: {e}\"\n",
        "        except json.JSONDecodeError as e:\n",
        "            return f\"Error decoding JSON: {e}\"\n",
        "\n",
        "result = Id.guid()\n",
        "print(result)"
      ],
      "metadata": {
        "id": "hT5B-LokmUbU",
        "outputId": "a698b8ba-97eb-4093-8ca1-da6135d32de4",
        "colab": {
          "base_uri": "https://localhost:8080/"
        }
      },
      "execution_count": 29,
      "outputs": [
        {
          "output_type": "stream",
          "name": "stdout",
          "text": [
            "Your request has been completd, the gud is 64df4aa7-bc34-4d97-b887-bc4002b6d4b2\n"
          ]
        }
      ]
    },
    {
      "cell_type": "markdown",
      "source": [
        "## Recursive Functions (3 pts)\n",
        "\n",
        "In the cell below, explain line by line the logic of what is being calculated when the function is called with an input value of 2.\n",
        "\n",
        "```\n",
        "def squarer(n):\n",
        "  if n == 1:\n",
        "    return 2\n",
        "  else:\n",
        "    return squarer(n-1) ** 2 + n\n",
        "\n",
        "squarer(2)\n",
        "```"
      ],
      "metadata": {
        "id": "XCuNofSFomZ6"
      }
    },
    {
      "cell_type": "code",
      "source": [
        "# answer goes here. Add space as needed.\n",
        "\n",
        "Line 1.  # def squarer(n): is basically a recursive function called squarer that takes one argument n.\n",
        "Line 2.  # if n == 1: is essentially a conditional statement that looks at if the input value n equals 1.\n",
        "Line 3.  # return 2 gives back the number 2 if n = 1, this is the recursion's basic example, where the function ends and gives back a certain result when n equals 1.\n",
        "Line 4.  # else makes it so it moves on to the else block if n is higher than 1 or doesn't equal 1.\n",
        "Line 5. # return squarer(n-1) ** 2 + n - this is the recursive part. Squarer is called with the parameter n-1, that result is squared, and then n is added. Basically, it adds n and calculatess the square of the squarer(n-1) result. This recursion keeps going until n equals 1, then it unwinds the recursion and starts coming back and calculating the results.\n",
        "\n",
        " # when squarer(2) is called  -  n starts as 2 so it is in the else block, it gets squarer(1) which gives 2, that is squared which gets you 4, then 4 is added to 2 and you get 6. Bascially, when you call squarer(2) you get 6."
      ],
      "metadata": {
        "id": "oYiqS2cxxXm4",
        "outputId": "be3cc8a1-42a7-490a-fc9d-d3fd8ed4bcfb",
        "colab": {
          "base_uri": "https://localhost:8080/",
          "height": 143
        }
      },
      "execution_count": 32,
      "outputs": [
        {
          "output_type": "error",
          "ename": "SyntaxError",
          "evalue": "ignored",
          "traceback": [
            "\u001b[0;36m  File \u001b[0;32m\"<ipython-input-32-654ec9670d82>\"\u001b[0;36m, line \u001b[0;32m3\u001b[0m\n\u001b[0;31m    Line 1.  #This line defines a recursive function called squarer that takes one argument n.\u001b[0m\n\u001b[0m         ^\u001b[0m\n\u001b[0;31mSyntaxError\u001b[0m\u001b[0;31m:\u001b[0m invalid syntax\n"
          ]
        }
      ]
    }
  ]
}