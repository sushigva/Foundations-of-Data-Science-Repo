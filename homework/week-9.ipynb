{
  "nbformat": 4,
  "nbformat_minor": 0,
  "metadata": {
    "colab": {
      "provenance": [],
      "include_colab_link": true
    },
    "kernelspec": {
      "name": "python3",
      "display_name": "Python 3"
    },
    "language_info": {
      "name": "python"
    }
  },
  "cells": [
    {
      "cell_type": "markdown",
      "metadata": {
        "id": "view-in-github",
        "colab_type": "text"
      },
      "source": [
        "<a href=\"https://colab.research.google.com/github/sushigva/Foundations-of-Data-Science-Repo/blob/main/homework/week-9.ipynb\" target=\"_parent\"><img src=\"https://colab.research.google.com/assets/colab-badge.svg\" alt=\"Open In Colab\"/></a>"
      ]
    },
    {
      "cell_type": "markdown",
      "source": [
        "# Homework - Week 9\n",
        "\n",
        "Complete the following blocks as specified in the directions. Run each cell to return the desired output. Save your notebook back to your GitHub repository and submit the GitHub URL to your notebook for review."
      ],
      "metadata": {
        "id": "phbaQTT5gy8A"
      }
    },
    {
      "cell_type": "markdown",
      "source": [
        "## Functions\n",
        "\n",
        "In the cell below define a function that takes one parameter (in the form of a list) called `names` and returns a simple greeting for each name, such as\n",
        "\n",
        "    \"Hello Natasha, it's so nice to meet you\"\n",
        "    \"Hello Sid, it's so nice to meet you\"\n",
        "\n",
        "Define the function and run it, and in another cell below call the function populated with a var of a list of names."
      ],
      "metadata": {
        "id": "38Pg39pMrDua"
      }
    },
    {
      "cell_type": "code",
      "source": [
        "#\n",
        "\n",
        "def greet(names):\n",
        "    greetings = []\n",
        "    for name in names:\n",
        "        greeting = f\"Hello {name}, it's so nice to meet you\"\n",
        "        greetings.append(greeting)\n",
        "    return greetings"
      ],
      "metadata": {
        "id": "kdFLCHtOg53p"
      },
      "execution_count": 6,
      "outputs": []
    },
    {
      "cell_type": "code",
      "source": [
        "#\n",
        "names_list = [\"Natasha\", \"Sid\", \"Jack\", \"Bobby\", \"Randall\"]\n",
        "greetings = greet(names_list)\n",
        "\n",
        "for greeting in greetings:\n",
        "    print(greeting)"
      ],
      "metadata": {
        "id": "JlNPe_XUsmog",
        "outputId": "d0d36986-7b76-42a6-a19c-6f3744f4a080",
        "colab": {
          "base_uri": "https://localhost:8080/"
        }
      },
      "execution_count": 9,
      "outputs": [
        {
          "output_type": "stream",
          "name": "stdout",
          "text": [
            "Hello Natasha, it's so nice to meet you\n",
            "Hello Sid, it's so nice to meet you\n",
            "Hello Jack, it's so nice to meet you\n",
            "Hello Bobby, it's so nice to meet you\n",
            "Hello Randall, it's so nice to meet you\n"
          ]
        }
      ]
    },
    {
      "cell_type": "markdown",
      "source": [
        "Using the following list, pass it into a function you define that will evaluate the list and return a count of how many items is in it. Be creative.\n",
        "\n",
        "```\n",
        "mylist = [\"Toronto\",\"Buffalo\",\"Syracuse\",\"Albany\",\"Schenectady\",\"Brooklyn\",\"Rome\",\"Ithaca\"]\n",
        "```"
      ],
      "metadata": {
        "id": "mXqNACpkrdUZ"
      }
    },
    {
      "cell_type": "code",
      "source": [
        "#\n",
        "def count_the_characters_in_cities(city_list):\n",
        "    totals_of_characters = sum(len(city) for city in city_list)\n",
        "    return totals_of_characters\n",
        "\n",
        "list = [\"Toronto\", \"Buffalo\", \"Syracuse\", \"Albany\", \"Schenectady\", \"Brooklyn\", \"Rome\", \"Ithaca\"]\n",
        "count = count_the_characters_in_cities(list)\n",
        "print(f\"The number of characters in the list of the cities is {count}.\")"
      ],
      "metadata": {
        "id": "mvxOzRSisg0a",
        "outputId": "5b2b2b4b-71ec-477b-9c2d-ea068d5659a7",
        "colab": {
          "base_uri": "https://localhost:8080/"
        }
      },
      "execution_count": 20,
      "outputs": [
        {
          "output_type": "stream",
          "name": "stdout",
          "text": [
            "The number of characters in the list of the cities is 57.\n"
          ]
        }
      ]
    },
    {
      "cell_type": "markdown",
      "source": [
        "## Input Validation\n",
        "\n",
        "Write a function below that defines two input parameters as `bool` and returns a `bool`.\n",
        "In the cell below that, populate two variables with two different bools (True and False)\n",
        "and pass them into a call of your function."
      ],
      "metadata": {
        "id": "YU7FXSCXsFab"
      }
    },
    {
      "cell_type": "code",
      "source": [
        "#\n",
        "\n",
        "# used two boolean parameters a,b\n",
        "def my_function(a, b):\n",
        "  return a and b\n",
        "\n",
        "x = True\n",
        "y = False\n",
        "print(my_function(x, y))"
      ],
      "metadata": {
        "id": "DGMJZjlysfHU",
        "outputId": "f96e99c6-59a6-4952-d26a-d152a61ad5fd",
        "colab": {
          "base_uri": "https://localhost:8080/"
        }
      },
      "execution_count": 25,
      "outputs": [
        {
          "output_type": "stream",
          "name": "stdout",
          "text": [
            "False\n"
          ]
        }
      ]
    },
    {
      "cell_type": "markdown",
      "source": [
        "## Global Variables\n",
        "\n",
        "Define a global variable and populate it with a data type (int, str, bool, float, etc.)"
      ],
      "metadata": {
        "id": "xXZTr5fdsd5M"
      }
    },
    {
      "cell_type": "code",
      "source": [
        "#\n",
        "global_var = 42"
      ],
      "metadata": {
        "id": "HN8CFLVRs6_L"
      },
      "execution_count": 33,
      "outputs": []
    },
    {
      "cell_type": "markdown",
      "source": [
        "Now create a function that prints out the global variable. Call the function and display the value of the var."
      ],
      "metadata": {
        "id": "G1Auc6l1s8F6"
      }
    },
    {
      "cell_type": "code",
      "source": [
        "#\n",
        "def print_global_var():\n",
        "    print(\"Global variable:\", global_var)\n",
        "print_global_var()"
      ],
      "metadata": {
        "id": "Q6O0Ep_wtBWJ",
        "outputId": "94001c4c-6b75-4f64-c2fd-60570b6b8d19",
        "colab": {
          "base_uri": "https://localhost:8080/"
        }
      },
      "execution_count": 35,
      "outputs": [
        {
          "output_type": "stream",
          "name": "stdout",
          "text": [
            "Global variable: 42\n"
          ]
        }
      ]
    },
    {
      "cell_type": "markdown",
      "source": [
        "Now create a function that creates its own global var and populates it.\n",
        "Call the function and then print out the global var from outside of the function."
      ],
      "metadata": {
        "id": "IN2TRQI8tCC4"
      }
    },
    {
      "cell_type": "code",
      "source": [
        "#\n",
        "def create_and_populate_global_var():\n",
        "    global new_global_var\n",
        "    new_global_var = \"Hi\"\n",
        "\n",
        "    create_and_populate_global_var()\n",
        "\n",
        "    print(\"New global varible:\", new_global_var)\n"
      ],
      "metadata": {
        "id": "Oz4rnmfTtKen"
      },
      "execution_count": 45,
      "outputs": []
    },
    {
      "cell_type": "markdown",
      "source": [
        "Finally, write a function that updates the value of the global var you defined 3 cells above.\n",
        "\n",
        "1. Within the function, print out the global var you defined 3 cells above.\n",
        "2. Update the global var to have a new value.\n",
        "3. Within the function, print the new value of the global var.\n",
        "\n",
        "Call the function and once more print out the value of the global var from outside of the function."
      ],
      "metadata": {
        "id": "jv0dtym0tLZn"
      }
    },
    {
      "cell_type": "code",
      "source": [
        "#\n",
        "def update_global_var():\n",
        "    global global_var\n",
        "    print(\"Current  global_var inside the function:\", global_var)\n",
        "    global_var = 3.14\n",
        "    print(\"New global_var inside the function:\", global_var)\n",
        "\n",
        "    update_global_var()\n",
        "\n",
        "    print(\"Update global variable:\", global_var)"
      ],
      "metadata": {
        "id": "pnX-hfKouLcG"
      },
      "execution_count": 44,
      "outputs": []
    }
  ]
}