{
  "nbformat": 4,
  "nbformat_minor": 0,
  "metadata": {
    "colab": {
      "provenance": [],
      "include_colab_link": true
    },
    "kernelspec": {
      "name": "python3",
      "display_name": "Python 3"
    },
    "language_info": {
      "name": "python"
    }
  },
  "cells": [
    {
      "cell_type": "markdown",
      "metadata": {
        "id": "view-in-github",
        "colab_type": "text"
      },
      "source": [
        "<a href=\"https://colab.research.google.com/github/sushigva/Foundations-of-Data-Science-Repo/blob/main/homework/week-7.ipynb\" target=\"_parent\"><img src=\"https://colab.research.google.com/assets/colab-badge.svg\" alt=\"Open In Colab\"/></a>"
      ]
    },
    {
      "cell_type": "markdown",
      "source": [
        "# Homework - Week 7\n",
        "\n",
        "Complete the following blocks as specified in the directions. Run each cell to return the desired output. Save your notebook back to your GitHub repository and submit the GitHub URL for your notebook for review.\n",
        "\n",
        "Load the following dataset into pandas and perform the requested operations in code.\n",
        "\n",
        "Source: https://ds1002-resources.s3.amazonaws.com/data/ride_sharing.csv"
      ],
      "metadata": {
        "id": "phbaQTT5gy8A"
      }
    },
    {
      "cell_type": "code",
      "source": [
        "# Load pandas and the data\n",
        "import pandas as pd\n",
        "\n",
        "url = \"https://ds1002-resources.s3.amazonaws.com/data/ride_sharing.csv\"\n",
        "df = pd.read_csv(url)\n"
      ],
      "metadata": {
        "id": "kdFLCHtOg53p"
      },
      "execution_count": 1,
      "outputs": []
    },
    {
      "cell_type": "code",
      "source": [
        "# show how many rows and columns are in this dataset\n",
        "rows, cols = df.shape\n",
        "print(f\"Numb row: {rows}\")\n",
        "print(f\"Numb col: {cols}\")"
      ],
      "metadata": {
        "id": "Lfh8suAyhKQW",
        "outputId": "eaa4ccae-fe30-4e71-992e-5a52708be461",
        "colab": {
          "base_uri": "https://localhost:8080/"
        }
      },
      "execution_count": 3,
      "outputs": [
        {
          "output_type": "stream",
          "name": "stdout",
          "text": [
            "Numb row: 25760\n",
            "Numb col: 10\n"
          ]
        }
      ]
    },
    {
      "cell_type": "code",
      "source": [
        "# The first column, \"duration\" is seen as a string.\n",
        "# Using two snippets of code, clean this column up so that\n",
        "# is now an integer (int64)\n",
        "df['duration'] = df['duration'].str.replace('minutes', '').astype('int64')\n",
        "\n"
      ],
      "metadata": {
        "id": "KK5-y9nzhMVq"
      },
      "execution_count": null,
      "outputs": []
    },
    {
      "cell_type": "code",
      "source": [
        "# Now display the datatypes in the updated dataframe\n",
        "print(\"\\nData types in the updated dataframe:\")\n",
        "print(df.dtypes)\n"
      ],
      "metadata": {
        "id": "QyGJUshvhz1J",
        "outputId": "1e6ee035-eced-4663-bec4-4b27e3338ee2",
        "colab": {
          "base_uri": "https://localhost:8080/"
        }
      },
      "execution_count": 4,
      "outputs": [
        {
          "output_type": "stream",
          "name": "stdout",
          "text": [
            "\n",
            "Data types in the updated dataframe:\n",
            "duration           object\n",
            "station_A_id        int64\n",
            "station_A_name     object\n",
            "station_B_id        int64\n",
            "station_B_name     object\n",
            "bike_id             int64\n",
            "user_type           int64\n",
            "user_birth_year     int64\n",
            "user_gender        object\n",
            "tire_size           int64\n",
            "dtype: object\n"
          ]
        }
      ]
    },
    {
      "cell_type": "code",
      "source": [
        "# Show the min and max values of ride durations (the shortest and longest rides)\n",
        "# Hint: If 'df' is the name of your dataframe, simply specify the column name\n",
        "# and then append the .min() or .max() methods.\n",
        "min_duration = df['duration'].min()\n",
        "max_duration = df['duration'].max()\n",
        "print(f\"\\nMinimum ride duration: {min_duration} minutes\")\n",
        "print(f\"Maximum ride duration: {max_duration} minutes\")"
      ],
      "metadata": {
        "id": "UCA1OswWh5b5",
        "outputId": "d67e5e80-5278-4130-fa2e-35c5ab311913",
        "colab": {
          "base_uri": "https://localhost:8080/"
        }
      },
      "execution_count": 7,
      "outputs": [
        {
          "output_type": "stream",
          "name": "stdout",
          "text": [
            "\n",
            "Minimum ride duration: 1 minutes minutes\n",
            "Maximum ride duration: 99 minutes minutes\n"
          ]
        }
      ]
    },
    {
      "cell_type": "code",
      "source": [
        "# Create a new dataframe object and populate it with rides that are 60 minutes or less.\n",
        "# Hint: Use the .query() method for the dataframe that we used in class.\n",
        "import pandas as pd\n",
        "\n",
        "\n",
        "df['duration'] = pd.to_numeric(df['duration'], errors='coerce') # I created this line to make it function with not number values\n",
        "new_df = df.query('duration <= 60')\n",
        "\n",
        "\n",
        "#I never ended up figuring out what went wrong from here, how do you use the .query method?\n",
        "#The errors\n",
        "\n",
        "\n",
        "\n"
      ],
      "metadata": {
        "id": "K7mStv5kibbA"
      },
      "execution_count": 39,
      "outputs": []
    },
    {
      "cell_type": "code",
      "source": [
        "# Now show both the min and max values of the duration column for your new dataset.\n",
        "min_duration = new_df['duration'].min()\n",
        "max_duration = new_df['duration'].max()\n",
        "print(f\"Minimum ride duration in the new dataset: {min_duration} minutes\")\n",
        "print(f\"Maximum ride duration in the new dataset: {max_duration} minutes\")"
      ],
      "metadata": {
        "id": "v63UdQjNi-w5",
        "outputId": "9fa06893-a3ae-4969-c8b7-87a15bd95ef0",
        "colab": {
          "base_uri": "https://localhost:8080/"
        }
      },
      "execution_count": 40,
      "outputs": [
        {
          "output_type": "stream",
          "name": "stdout",
          "text": [
            "Minimum ride duration in the new dataset: nan minutes\n",
            "Maximum ride duration in the new dataset: nan minutes\n"
          ]
        }
      ]
    },
    {
      "cell_type": "code",
      "source": [
        "# Using the new dataframe, update it so that is ONLY has records where\n",
        "# the tire_size is 26.\n",
        "new_df = new_df.query('tire_size == 26')\n"
      ],
      "metadata": {
        "id": "xTzb_j9rjGk2"
      },
      "execution_count": 41,
      "outputs": []
    },
    {
      "cell_type": "code",
      "source": [
        "# Finally, produce a count of all records with FEMALE riders\n",
        "# using the 26-inch wheeled rental bikes for their rentals of\n",
        "# one hour or less.\n",
        "#it didn't make sense from the earlier question"
      ],
      "metadata": {
        "id": "0cwbfj66jrG9"
      },
      "execution_count": 43,
      "outputs": []
    }
  ]
}