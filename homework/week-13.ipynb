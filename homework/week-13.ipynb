{
  "nbformat": 4,
  "nbformat_minor": 0,
  "metadata": {
    "colab": {
      "provenance": [],
      "include_colab_link": true
    },
    "kernelspec": {
      "name": "ir",
      "display_name": "R"
    },
    "language_info": {
      "name": "R"
    }
  },
  "cells": [
    {
      "cell_type": "markdown",
      "metadata": {
        "id": "view-in-github",
        "colab_type": "text"
      },
      "source": [
        "<a href=\"https://colab.research.google.com/github/sushigva/Foundations-of-Data-Science-Repo/blob/main/homework/week-13.ipynb\" target=\"_parent\"><img src=\"https://colab.research.google.com/assets/colab-badge.svg\" alt=\"Open In Colab\"/></a>"
      ]
    },
    {
      "cell_type": "markdown",
      "source": [
        "# Homework - Week 13\n",
        "\n",
        "Complete the following blocks as specified in the directions. Run each cell to return the desired output. Save your notebook back to your GitHub repository and submit the GitHub URL to your notebook for review."
      ],
      "metadata": {
        "id": "sZruw3XQogej"
      }
    },
    {
      "cell_type": "markdown",
      "source": [
        "## 1. Change Runtime to R (1 pt)\n",
        "\n",
        "Change the runtime of this notebook to R. You can verify that you are running R by displaying the current version you are running. Run the cell below and show the output."
      ],
      "metadata": {
        "id": "KmpG99aAokL9"
      }
    },
    {
      "cell_type": "code",
      "execution_count": 3,
      "metadata": {
        "id": "k03Z1NKAoZrW",
        "outputId": "f56ccace-3fa8-4d8a-a364-45734c14aebc",
        "colab": {
          "base_uri": "https://localhost:8080/",
          "height": 285
        }
      },
      "outputs": [
        {
          "output_type": "display_data",
          "data": {
            "text/plain": [
              "               _                           \n",
              "platform       x86_64-pc-linux-gnu         \n",
              "arch           x86_64                      \n",
              "os             linux-gnu                   \n",
              "system         x86_64, linux-gnu           \n",
              "status                                     \n",
              "major          4                           \n",
              "minor          3.2                         \n",
              "year           2023                        \n",
              "month          10                          \n",
              "day            31                          \n",
              "svn rev        85441                       \n",
              "language       R                           \n",
              "version.string R version 4.3.2 (2023-10-31)\n",
              "nickname       Eye Holes                   "
            ]
          },
          "metadata": {}
        }
      ],
      "source": [
        "version # changed runtime in top left menu to R and hit save"
      ]
    },
    {
      "cell_type": "markdown",
      "source": [
        "## 2. Create Vectors (2 pts)\n",
        "\n",
        "Create two vectors in the cells below, according to the prompts given."
      ],
      "metadata": {
        "id": "lkaofBQypx1X"
      }
    },
    {
      "cell_type": "code",
      "source": [
        "# create a vector with 7 integer values. Assign it to a variable named \"my_integers\"\n",
        "my_integers <- c(1, 2, 3, 4, 5, 6, 7)\n",
        "print(my_integers) # print to show"
      ],
      "metadata": {
        "id": "1fjq5bkEp6Zv",
        "outputId": "61ebc17f-f633-4836-cf8d-922e98e33fc0",
        "colab": {
          "base_uri": "https://localhost:8080/"
        }
      },
      "execution_count": 5,
      "outputs": [
        {
          "output_type": "stream",
          "name": "stdout",
          "text": [
            "[1] 1 2 3 4 5 6 7\n"
          ]
        }
      ]
    },
    {
      "cell_type": "code",
      "source": [
        "var1 = 8\n",
        "var2 = 4\n",
        "var3 = 12\n",
        "var4 = 25\n",
        "\n",
        "\n",
        "calc_value1 <- var2 / var1\n",
        "calc_value2 <- var2^3 * var3\n",
        "calc_valued3 <- as.integer(var4 / var3)\n",
        "\n",
        "my_calculated_values <- c(calc_value1, calc_value2, calc_value3)\n",
        "\n",
        "print(my_calculated_values) # i just watnt to see what it looks like\n",
        "\n",
        "# Using the variables given above, assign three new variables the following calculated values:\n",
        "#\n",
        "# 1. Your first variable should be assigned the calculated value of var2 divided by var1.\n",
        "# 2. Your second variable should be assigned the calculated value of var2 cubed times var3.\n",
        "# 3. Your third variable should be assigned the calculated value of var4 integer divided by var3.\n",
        "#\n",
        "# Next, create an array populated by your three variables. Assign the array to a new variable named \"my_calculated_values\"\n",
        "\n",
        "\n"
      ],
      "metadata": {
        "id": "f3IFD-T6p6Rd",
        "outputId": "ac5a8f39-d785-4d7e-9d1b-2277270c7cbc",
        "colab": {
          "base_uri": "https://localhost:8080/"
        }
      },
      "execution_count": 12,
      "outputs": [
        {
          "output_type": "stream",
          "name": "stdout",
          "text": [
            "[1]   0.5 768.0   2.0\n"
          ]
        }
      ]
    },
    {
      "cell_type": "markdown",
      "source": [
        "## 3. Vector Indexes (3 pts)"
      ],
      "metadata": {
        "id": "F6Rx0GIGrpOB"
      }
    },
    {
      "cell_type": "markdown",
      "source": [
        "In the cell below, create a vector that starts with the integer 4, that increments by counts of 3 all the way to 28.\n",
        "\n",
        "Assign the vector to a variable name."
      ],
      "metadata": {
        "id": "IDLyOjOJsFCX"
      }
    },
    {
      "cell_type": "code",
      "source": [
        "#\n",
        "thisss_vector <- seq(from = 4, to = 28, by = 3)\n",
        "\n",
        "print(thisss_vector)"
      ],
      "metadata": {
        "id": "0D5Ia-BPsoPZ",
        "outputId": "2bc148da-e96d-42ac-c276-1d7b02088bad",
        "colab": {
          "base_uri": "https://localhost:8080/"
        }
      },
      "execution_count": 14,
      "outputs": [
        {
          "output_type": "stream",
          "name": "stdout",
          "text": [
            "[1]  4  7 10 13 16 19 22 25 28\n"
          ]
        }
      ]
    },
    {
      "cell_type": "markdown",
      "source": [
        "Next, show how to display this vector with the 3 index removed.\n",
        "\n",
        "---\n",
        "\n"
      ],
      "metadata": {
        "id": "RxFRiRMvtfXI"
      }
    },
    {
      "cell_type": "code",
      "source": [
        "#\n",
        "cool_vector <- seq(from = 4, to = 28, by = 3)\n",
        "cool_vector_remove_third_index <- cool_vector[-3]\n",
        "print(cool_vector_remove_third_index)"
      ],
      "metadata": {
        "id": "MBg7V1LztQlv",
        "outputId": "d30536d8-ab41-43a1-ec24-9b78a400c0c4",
        "colab": {
          "base_uri": "https://localhost:8080/"
        }
      },
      "execution_count": 17,
      "outputs": [
        {
          "output_type": "stream",
          "name": "stdout",
          "text": [
            "[1]  4  7 13 16 19 22 25 28\n"
          ]
        }
      ]
    },
    {
      "cell_type": "markdown",
      "source": [
        "Finally, show how to delete the 4th, 5th, and 7th indexes from the vector and update the vector so they are forever removed from the vector.\n",
        "\n",
        "Hint: there is a fairly simple way to do this in one line, such that you don't have to run a separate command for each removal."
      ],
      "metadata": {
        "id": "Rmci-rVCtq-C"
      }
    },
    {
      "cell_type": "code",
      "source": [
        "#\n",
        "him_vector <- seq(from = 4, to = 28, by = 3)\n",
        "\n",
        "him_vector <- him_vector[-c(4, 5, 7)]\n",
        "\n",
        "print(him_vector)"
      ],
      "metadata": {
        "id": "y1k0NHNruFX2",
        "outputId": "abd27482-c6af-4625-a40a-7c0153d92b9c",
        "colab": {
          "base_uri": "https://localhost:8080/"
        }
      },
      "execution_count": 18,
      "outputs": [
        {
          "output_type": "stream",
          "name": "stdout",
          "text": [
            "[1]  4  7 10 19 25 28\n"
          ]
        }
      ]
    },
    {
      "cell_type": "markdown",
      "source": [
        "## 4. Create a Data Frame (3 pts)\n",
        "\n",
        "In the cell below create a data frame with 10 observations (rows) and 5 variables (columns) each. This data frame will describe some of your favorite musical performers. You can use real or fictitious data to populate your data frame.\n",
        "\n",
        "Variables:\n",
        "  - `artist` - Artist or band name\n",
        "  - `category` - Rock, Pop, Country, Hip-hop, Jazz, Classical, Soul, Other. (Try to distribute your selections here)\n",
        "  - `size` - (number of members, 1-?)\n",
        "  - `start` - Debut year of artist.\n",
        "  - `grammy` - Grammmy winner? `TRUE` | `FALSE`\n",
        "\n",
        "First create vectors for each variable populated with your own performer data. Then create a data frame from these vectors (be sure to assign column names too) and assign it to a named variable such as `df`."
      ],
      "metadata": {
        "id": "-2ZaFcCCv3o8"
      }
    },
    {
      "cell_type": "code",
      "source": [
        "#\n",
        "artist <- c(\"Led Zeppelin\", \"Michael Jackson\", \"Johnny Cash\", \"Eminem\", \"John Coltrane\", \"Mozart\", \"Aretha Franklin\", \"Radiohead\", \"David Bowie\", \"Prince\")\n",
        "category <- c(\"Rock\", \"Pop\", \"Country\", \"Hip-hp\", \"Jazz\", \"Classiical\", \"Soul\", \"Rock\", \"Rock\", \"Pop\")\n",
        "size <- c(4, 1, 1, 1, 5, 1, 1, 5, 1, 1)\n",
        "start <- c(1968, 1969, 1954, 1996, 1957, 1762, 1956, 1985, 1962, 1978)\n",
        "grmmy <- c(TRUE, TRUE, FALSE, TRUE, TRUE, FALSE, TRUE, TRUE, TRUE, TRUE)\n",
        "\n",
        "df <- data.frame(Artist = artist, Category = category, Size = size, Debut_Year = start, Grammy_Winner = grammy)\n",
        "\n",
        "print(df)"
      ],
      "metadata": {
        "id": "V4nBsdVsyauQ",
        "outputId": "45a59bc1-90dd-4f11-98d9-30aedf672a43",
        "colab": {
          "base_uri": "https://localhost:8080/"
        }
      },
      "execution_count": 35,
      "outputs": [
        {
          "output_type": "stream",
          "name": "stdout",
          "text": [
            "            Artist   Category Size Debut_Year Grammy_Winner\n",
            "1     Led Zeppelin       Rock    4       1968          TRUE\n",
            "2  Michael Jackson        Pop    1       1969          TRUE\n",
            "3      Johnny Cash    Country    1       1954         FALSE\n",
            "4           Eminem     Hip-hp    1       1996          TRUE\n",
            "5    John Coltrane       Jazz    5       1957          TRUE\n",
            "6           Mozart Classiical    1       1762         FALSE\n",
            "7  Aretha Franklin       Soul    1       1956          TRUE\n",
            "8        Radiohead       Rock    5       1985          TRUE\n",
            "9      David Bowie       Rock    1       1962          TRUE\n",
            "10          Prince        Pop    1       1978          TRUE\n"
          ]
        }
      ]
    },
    {
      "cell_type": "markdown",
      "source": [
        "## 5. Filter/Query a Data Frame (2 pts)\n",
        "\n",
        "Use the data frame you created above and show how to perform the following queries."
      ],
      "metadata": {
        "id": "nG5m-FIRydNU"
      }
    },
    {
      "cell_type": "code",
      "source": [
        "# Display the first 3 records and only the `artist`, `category` and `grammy` columns for each.\n",
        "\n",
        "head(df[, c(\"Artist\", \"Category\", \"Grammy_Winner\")], 3)"
      ],
      "metadata": {
        "id": "OlmbfFi6zSgR",
        "outputId": "cbc92fe2-24a9-44cd-f9c3-495131c2e231",
        "colab": {
          "base_uri": "https://localhost:8080/",
          "height": 192
        }
      },
      "execution_count": 36,
      "outputs": [
        {
          "output_type": "display_data",
          "data": {
            "text/html": [
              "<table class=\"dataframe\">\n",
              "<caption>A data.frame: 3 × 3</caption>\n",
              "<thead>\n",
              "\t<tr><th></th><th scope=col>Artist</th><th scope=col>Category</th><th scope=col>Grammy_Winner</th></tr>\n",
              "\t<tr><th></th><th scope=col>&lt;chr&gt;</th><th scope=col>&lt;chr&gt;</th><th scope=col>&lt;lgl&gt;</th></tr>\n",
              "</thead>\n",
              "<tbody>\n",
              "\t<tr><th scope=row>1</th><td>Led Zeppelin   </td><td>Rock   </td><td> TRUE</td></tr>\n",
              "\t<tr><th scope=row>2</th><td>Michael Jackson</td><td>Pop    </td><td> TRUE</td></tr>\n",
              "\t<tr><th scope=row>3</th><td>Johnny Cash    </td><td>Country</td><td>FALSE</td></tr>\n",
              "</tbody>\n",
              "</table>\n"
            ],
            "text/markdown": "\nA data.frame: 3 × 3\n\n| <!--/--> | Artist &lt;chr&gt; | Category &lt;chr&gt; | Grammy_Winner &lt;lgl&gt; |\n|---|---|---|---|\n| 1 | Led Zeppelin    | Rock    |  TRUE |\n| 2 | Michael Jackson | Pop     |  TRUE |\n| 3 | Johnny Cash     | Country | FALSE |\n\n",
            "text/latex": "A data.frame: 3 × 3\n\\begin{tabular}{r|lll}\n  & Artist & Category & Grammy\\_Winner\\\\\n  & <chr> & <chr> & <lgl>\\\\\n\\hline\n\t1 & Led Zeppelin    & Rock    &  TRUE\\\\\n\t2 & Michael Jackson & Pop     &  TRUE\\\\\n\t3 & Johnny Cash     & Country & FALSE\\\\\n\\end{tabular}\n",
            "text/plain": [
              "  Artist          Category Grammy_Winner\n",
              "1 Led Zeppelin    Rock      TRUE        \n",
              "2 Michael Jackson Pop       TRUE        \n",
              "3 Johnny Cash     Country  FALSE        "
            ]
          },
          "metadata": {}
        }
      ]
    },
    {
      "cell_type": "code",
      "source": [
        "# Display the records for just one musical category, such as only Rock bands or only Hip-hop bands.\n",
        "rocks_bands <- df[df$Category == \"Rock\", ]\n",
        "print(rocks_bands)"
      ],
      "metadata": {
        "id": "-l_kpWSzzlhG",
        "outputId": "c97cae21-fe95-44da-e345-6af3cba42c0a",
        "colab": {
          "base_uri": "https://localhost:8080/"
        }
      },
      "execution_count": 39,
      "outputs": [
        {
          "output_type": "stream",
          "name": "stdout",
          "text": [
            "        Artist Category Size Debut_Year Grammy_Winner\n",
            "1 Led Zeppelin     Rock    4       1968          TRUE\n",
            "8    Radiohead     Rock    5       1985          TRUE\n",
            "9  David Bowie     Rock    1       1962          TRUE\n"
          ]
        }
      ]
    },
    {
      "cell_type": "markdown",
      "source": [
        "## Query a Data Frame using `tidyverse` (4 pts)\n",
        "\n",
        "1. Show how to load the library.\n",
        "2. Show how to glimpse basic features of the `starwars` data table.\n",
        "3. Create a query using tidyverse that retrieves the following data:\n",
        "    - Selects only these columns: `name`, `height`, `sex`, `species`.\n",
        "    - Filters for all species that are NOT Human.\n",
        "    - Arranges the resulting data in order by name.\n",
        "\n",
        "Show your output in a data frame."
      ],
      "metadata": {
        "id": "L-xnszjS0Byy"
      }
    },
    {
      "cell_type": "code",
      "source": [
        "#\n",
        "library(tidyverse) # load tidyverse pacakge\n",
        "data(starwars) # laod starwars dataset\n",
        "glimpse(starwars) # glimpse basci feature\n",
        "\n",
        "result <- starwars %>%\n",
        "  select(name, height, sex, species) %>%  # only chooses name, height, sex, species columns\n",
        "  filter(species != \"Human\") %>%         # filter  everything not human , then arranged it after ascending manner by name\n",
        "  arrange(name)\n",
        "result_df <- as.data.frame(result) # showed and printed\n",
        "print(result_df)\n"
      ],
      "metadata": {
        "id": "yTMLzrxS0F4u",
        "outputId": "f2a6a571-39f1-4fe1-8ab4-bdd1157c8d29",
        "colab": {
          "base_uri": "https://localhost:8080/"
        }
      },
      "execution_count": 47,
      "outputs": [
        {
          "output_type": "stream",
          "name": "stdout",
          "text": [
            "Rows: 87\n",
            "Columns: 14\n",
            "$ name       \u001b[3m\u001b[90m<chr>\u001b[39m\u001b[23m \"Luke Skywalker\", \"C-3PO\", \"R2-D2\", \"Darth Vader\", \"Leia Or…\n",
            "$ height     \u001b[3m\u001b[90m<int>\u001b[39m\u001b[23m 172, 167, 96, 202, 150, 178, 165, 97, 183, 182, 188, 180, 2…\n",
            "$ mass       \u001b[3m\u001b[90m<dbl>\u001b[39m\u001b[23m 77.0, 75.0, 32.0, 136.0, 49.0, 120.0, 75.0, 32.0, 84.0, 77.…\n",
            "$ hair_color \u001b[3m\u001b[90m<chr>\u001b[39m\u001b[23m \"blond\", NA, NA, \"none\", \"brown\", \"brown, grey\", \"brown\", N…\n",
            "$ skin_color \u001b[3m\u001b[90m<chr>\u001b[39m\u001b[23m \"fair\", \"gold\", \"white, blue\", \"white\", \"light\", \"light\", \"…\n",
            "$ eye_color  \u001b[3m\u001b[90m<chr>\u001b[39m\u001b[23m \"blue\", \"yellow\", \"red\", \"yellow\", \"brown\", \"blue\", \"blue\",…\n",
            "$ birth_year \u001b[3m\u001b[90m<dbl>\u001b[39m\u001b[23m 19.0, 112.0, 33.0, 41.9, 19.0, 52.0, 47.0, NA, 24.0, 57.0, …\n",
            "$ sex        \u001b[3m\u001b[90m<chr>\u001b[39m\u001b[23m \"male\", \"none\", \"none\", \"male\", \"female\", \"male\", \"female\",…\n",
            "$ gender     \u001b[3m\u001b[90m<chr>\u001b[39m\u001b[23m \"masculine\", \"masculine\", \"masculine\", \"masculine\", \"femini…\n",
            "$ homeworld  \u001b[3m\u001b[90m<chr>\u001b[39m\u001b[23m \"Tatooine\", \"Tatooine\", \"Naboo\", \"Tatooine\", \"Alderaan\", \"T…\n",
            "$ species    \u001b[3m\u001b[90m<chr>\u001b[39m\u001b[23m \"Human\", \"Droid\", \"Droid\", \"Human\", \"Human\", \"Human\", \"Huma…\n",
            "$ films      \u001b[3m\u001b[90m<list>\u001b[39m\u001b[23m <\"The Empire Strikes Back\", \"Revenge of the Sith\", \"Return…\n",
            "$ vehicles   \u001b[3m\u001b[90m<list>\u001b[39m\u001b[23m <\"Snowspeeder\", \"Imperial Speeder Bike\">, <>, <>, <>, \"Imp…\n",
            "$ starships  \u001b[3m\u001b[90m<list>\u001b[39m\u001b[23m <\"X-wing\", \"Imperial shuttle\">, <>, <>, \"TIE Advanced x1\",…\n",
            "                    name height            sex        species\n",
            "1                 Ackbar    180           male   Mon Calamari\n",
            "2             Adi Gallia    184         female     Tholothian\n",
            "3            Ayla Secura    178         female        Twi'lek\n",
            "4                    BB8     NA           none          Droid\n",
            "5          Barriss Offee    166         female       Mirialan\n",
            "6         Ben Quadinaros    163           male          Toong\n",
            "7            Bib Fortuna    180           male        Twi'lek\n",
            "8                  Bossk    190           male     Trandoshan\n",
            "9                  C-3PO    167           none          Droid\n",
            "10             Chewbacca    228           male        Wookiee\n",
            "11            Darth Maul    175           male         Zabrak\n",
            "12       Dexter Jettster    198           male       Besalisk\n",
            "13              Dud Bolt     94           male     Vulptereen\n",
            "14             Eeth Koth    171           male         Zabrak\n",
            "15               Gasgano    122           male          Xexto\n",
            "16                Greedo    173           male         Rodian\n",
            "17              Grievous    216           male        Kaleesh\n",
            "18                 IG-88    200           none          Droid\n",
            "19 Jabba Desilijic Tiure    175 hermaphroditic           Hutt\n",
            "20         Jar Jar Binks    196           male         Gungan\n",
            "21          Ki-Adi-Mundi    198           male         Cerean\n",
            "22             Kit Fisto    196           male       Nautolan\n",
            "23               Lama Su    229           male       Kaminoan\n",
            "24       Luminara Unduli    170         female       Mirialan\n",
            "25            Mas Amedda    196           male       Chagrian\n",
            "26             Nien Nunb    160           male      Sullustan\n",
            "27           Nute Gunray    191           male      Neimodian\n",
            "28              Plo Koon    188           male        Kel Dor\n",
            "29     Poggle the Lesser    183           male      Geonosian\n",
            "30                 R2-D2     96           none          Droid\n",
            "31                R4-P17     96           none          Droid\n",
            "32                 R5-D4     97           none          Droid\n",
            "33         Ratts Tyerell     79           male         Aleena\n",
            "34          Roos Tarpals    224           male         Gungan\n",
            "35            Rugor Nass    206           male         Gungan\n",
            "36           Saesee Tiin    188           male       Iktotchi\n",
            "37              San Hill    191           male           Muun\n",
            "38               Sebulba    112           male            Dug\n",
            "39              Shaak Ti    178         female        Togruta\n",
            "40               Tarfful    234           male        Wookiee\n",
            "41               Taun We    213         female       Kaminoan\n",
            "42            Tion Medon    206           male         Pau'an\n",
            "43            Wat Tambor    193           male        Skakoan\n",
            "44                 Watto    137           male      Toydarian\n",
            "45 Wicket Systri Warrick     88           male           Ewok\n",
            "46           Yarael Poof    264           male       Quermian\n",
            "47                  Yoda     66           male Yoda's species\n",
            "48            Zam Wesell    168         female       Clawdite\n"
          ]
        }
      ]
    }
  ]
}